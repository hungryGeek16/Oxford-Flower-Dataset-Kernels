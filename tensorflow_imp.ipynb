{
 "cells": [
  {
   "cell_type": "code",
   "execution_count": 1,
   "metadata": {},
   "outputs": [
    {
     "name": "stderr",
     "output_type": "stream",
     "text": [
      "/usr/local/anaconda/lib/python3.7/site-packages/tensorflow/python/framework/dtypes.py:516: FutureWarning: Passing (type, 1) or '1type' as a synonym of type is deprecated; in a future version of numpy, it will be understood as (type, (1,)) / '(1,)type'.\n",
      "  _np_qint8 = np.dtype([(\"qint8\", np.int8, 1)])\n",
      "/usr/local/anaconda/lib/python3.7/site-packages/tensorflow/python/framework/dtypes.py:517: FutureWarning: Passing (type, 1) or '1type' as a synonym of type is deprecated; in a future version of numpy, it will be understood as (type, (1,)) / '(1,)type'.\n",
      "  _np_quint8 = np.dtype([(\"quint8\", np.uint8, 1)])\n",
      "/usr/local/anaconda/lib/python3.7/site-packages/tensorflow/python/framework/dtypes.py:518: FutureWarning: Passing (type, 1) or '1type' as a synonym of type is deprecated; in a future version of numpy, it will be understood as (type, (1,)) / '(1,)type'.\n",
      "  _np_qint16 = np.dtype([(\"qint16\", np.int16, 1)])\n",
      "/usr/local/anaconda/lib/python3.7/site-packages/tensorflow/python/framework/dtypes.py:519: FutureWarning: Passing (type, 1) or '1type' as a synonym of type is deprecated; in a future version of numpy, it will be understood as (type, (1,)) / '(1,)type'.\n",
      "  _np_quint16 = np.dtype([(\"quint16\", np.uint16, 1)])\n",
      "/usr/local/anaconda/lib/python3.7/site-packages/tensorflow/python/framework/dtypes.py:520: FutureWarning: Passing (type, 1) or '1type' as a synonym of type is deprecated; in a future version of numpy, it will be understood as (type, (1,)) / '(1,)type'.\n",
      "  _np_qint32 = np.dtype([(\"qint32\", np.int32, 1)])\n",
      "/usr/local/anaconda/lib/python3.7/site-packages/tensorflow/python/framework/dtypes.py:525: FutureWarning: Passing (type, 1) or '1type' as a synonym of type is deprecated; in a future version of numpy, it will be understood as (type, (1,)) / '(1,)type'.\n",
      "  np_resource = np.dtype([(\"resource\", np.ubyte, 1)])\n",
      "/usr/local/anaconda/lib/python3.7/site-packages/tensorboard/compat/tensorflow_stub/dtypes.py:541: FutureWarning: Passing (type, 1) or '1type' as a synonym of type is deprecated; in a future version of numpy, it will be understood as (type, (1,)) / '(1,)type'.\n",
      "  _np_qint8 = np.dtype([(\"qint8\", np.int8, 1)])\n",
      "/usr/local/anaconda/lib/python3.7/site-packages/tensorboard/compat/tensorflow_stub/dtypes.py:542: FutureWarning: Passing (type, 1) or '1type' as a synonym of type is deprecated; in a future version of numpy, it will be understood as (type, (1,)) / '(1,)type'.\n",
      "  _np_quint8 = np.dtype([(\"quint8\", np.uint8, 1)])\n",
      "/usr/local/anaconda/lib/python3.7/site-packages/tensorboard/compat/tensorflow_stub/dtypes.py:543: FutureWarning: Passing (type, 1) or '1type' as a synonym of type is deprecated; in a future version of numpy, it will be understood as (type, (1,)) / '(1,)type'.\n",
      "  _np_qint16 = np.dtype([(\"qint16\", np.int16, 1)])\n",
      "/usr/local/anaconda/lib/python3.7/site-packages/tensorboard/compat/tensorflow_stub/dtypes.py:544: FutureWarning: Passing (type, 1) or '1type' as a synonym of type is deprecated; in a future version of numpy, it will be understood as (type, (1,)) / '(1,)type'.\n",
      "  _np_quint16 = np.dtype([(\"quint16\", np.uint16, 1)])\n",
      "/usr/local/anaconda/lib/python3.7/site-packages/tensorboard/compat/tensorflow_stub/dtypes.py:545: FutureWarning: Passing (type, 1) or '1type' as a synonym of type is deprecated; in a future version of numpy, it will be understood as (type, (1,)) / '(1,)type'.\n",
      "  _np_qint32 = np.dtype([(\"qint32\", np.int32, 1)])\n",
      "/usr/local/anaconda/lib/python3.7/site-packages/tensorboard/compat/tensorflow_stub/dtypes.py:550: FutureWarning: Passing (type, 1) or '1type' as a synonym of type is deprecated; in a future version of numpy, it will be understood as (type, (1,)) / '(1,)type'.\n",
      "  np_resource = np.dtype([(\"resource\", np.ubyte, 1)])\n"
     ]
    }
   ],
   "source": [
    "import numpy as np\n",
    "import scipy.io\n",
    "import cv2\n",
    "import os\n",
    "import pandas as pd\n",
    "import tensorflow as tf"
   ]
  },
  {
   "cell_type": "code",
   "execution_count": 2,
   "metadata": {},
   "outputs": [],
   "source": [
    "label = scipy.io.loadmat('imagelabels.mat')\n",
    "y = label['labels'][0]\n",
    "\n",
    "data_y = []\n",
    "data = []"
   ]
  },
  {
   "cell_type": "code",
   "execution_count": 3,
   "metadata": {},
   "outputs": [],
   "source": [
    "dir = 'segmim/'\n",
    "for dirname in os.listdir(dir):\n",
    "    img_num = int(dirname[8:12])-1\n",
    "    data_y.append(y[img_num]-1)\n",
    "    img = cv2.imread(os.path.join(dir, dirname))\n",
    "    resized = cv2.resize(img, (128,128))\n",
    "    data.append(resized)"
   ]
  },
  {
   "cell_type": "code",
   "execution_count": 5,
   "metadata": {},
   "outputs": [],
   "source": [
    "data = np.array(data)"
   ]
  },
  {
   "cell_type": "code",
   "execution_count": 6,
   "metadata": {},
   "outputs": [],
   "source": [
    "data_new = data.reshape(len(data),128*128*3)"
   ]
  },
  {
   "cell_type": "code",
   "execution_count": 7,
   "metadata": {},
   "outputs": [
    {
     "data": {
      "text/plain": [
       "(8189, 49152)"
      ]
     },
     "execution_count": 7,
     "metadata": {},
     "output_type": "execute_result"
    }
   ],
   "source": [
    "data_new.shape"
   ]
  },
  {
   "cell_type": "code",
   "execution_count": 8,
   "metadata": {},
   "outputs": [],
   "source": [
    "df = pd.DataFrame(data_new)"
   ]
  },
  {
   "cell_type": "code",
   "execution_count": 9,
   "metadata": {},
   "outputs": [],
   "source": [
    "df['Labels'] = data_y"
   ]
  },
  {
   "cell_type": "code",
   "execution_count": null,
   "metadata": {},
   "outputs": [],
   "source": [
    "df.to_csv('data.csv')"
   ]
  },
  {
   "cell_type": "code",
   "execution_count": 10,
   "metadata": {},
   "outputs": [],
   "source": [
    "ids = scipy.io.loadmat('setid.mat')"
   ]
  },
  {
   "cell_type": "code",
   "execution_count": 11,
   "metadata": {},
   "outputs": [
    {
     "data": {
      "text/plain": [
       "array([6765, 6755, 6768, ..., 8026, 8036, 8041], dtype=uint16)"
      ]
     },
     "execution_count": 11,
     "metadata": {},
     "output_type": "execute_result"
    }
   ],
   "source": [
    "ids['trnid'][0]"
   ]
  },
  {
   "cell_type": "code",
   "execution_count": 26,
   "metadata": {},
   "outputs": [
    {
     "data": {
      "text/plain": [
       "50    258\n",
       "76    251\n",
       "45    196\n",
       "72    194\n",
       "88    184\n",
       "     ... \n",
       "44     40\n",
       "2      40\n",
       "20     40\n",
       "33     40\n",
       "0      40\n",
       "Length: 102, dtype: int64"
      ]
     },
     "execution_count": 26,
     "metadata": {},
     "output_type": "execute_result"
    }
   ],
   "source": [
    "pd.Series(data_y).value_counts()"
   ]
  },
  {
   "cell_type": "code",
   "execution_count": 34,
   "metadata": {},
   "outputs": [
    {
     "data": {
      "text/plain": [
       "77"
      ]
     },
     "execution_count": 34,
     "metadata": {},
     "output_type": "execute_result"
    }
   ],
   "source": [
    "y[0]"
   ]
  },
  {
   "cell_type": "code",
   "execution_count": 36,
   "metadata": {},
   "outputs": [
    {
     "data": {
      "text/html": [
       "<div>\n",
       "<style scoped>\n",
       "    .dataframe tbody tr th:only-of-type {\n",
       "        vertical-align: middle;\n",
       "    }\n",
       "\n",
       "    .dataframe tbody tr th {\n",
       "        vertical-align: top;\n",
       "    }\n",
       "\n",
       "    .dataframe thead th {\n",
       "        text-align: right;\n",
       "    }\n",
       "</style>\n",
       "<table border=\"1\" class=\"dataframe\">\n",
       "  <thead>\n",
       "    <tr style=\"text-align: right;\">\n",
       "      <th></th>\n",
       "      <th>0</th>\n",
       "      <th>1</th>\n",
       "      <th>2</th>\n",
       "      <th>3</th>\n",
       "      <th>4</th>\n",
       "      <th>5</th>\n",
       "      <th>6</th>\n",
       "      <th>7</th>\n",
       "      <th>8</th>\n",
       "      <th>9</th>\n",
       "      <th>...</th>\n",
       "      <th>49143</th>\n",
       "      <th>49144</th>\n",
       "      <th>49145</th>\n",
       "      <th>49146</th>\n",
       "      <th>49147</th>\n",
       "      <th>49148</th>\n",
       "      <th>49149</th>\n",
       "      <th>49150</th>\n",
       "      <th>49151</th>\n",
       "      <th>Labels</th>\n",
       "    </tr>\n",
       "  </thead>\n",
       "  <tbody>\n",
       "    <tr>\n",
       "      <th>0</th>\n",
       "      <td>254</td>\n",
       "      <td>0</td>\n",
       "      <td>0</td>\n",
       "      <td>254</td>\n",
       "      <td>0</td>\n",
       "      <td>0</td>\n",
       "      <td>254</td>\n",
       "      <td>0</td>\n",
       "      <td>0</td>\n",
       "      <td>254</td>\n",
       "      <td>...</td>\n",
       "      <td>254</td>\n",
       "      <td>0</td>\n",
       "      <td>0</td>\n",
       "      <td>254</td>\n",
       "      <td>0</td>\n",
       "      <td>0</td>\n",
       "      <td>254</td>\n",
       "      <td>0</td>\n",
       "      <td>0</td>\n",
       "      <td>45</td>\n",
       "    </tr>\n",
       "    <tr>\n",
       "      <th>1</th>\n",
       "      <td>254</td>\n",
       "      <td>0</td>\n",
       "      <td>0</td>\n",
       "      <td>254</td>\n",
       "      <td>0</td>\n",
       "      <td>0</td>\n",
       "      <td>254</td>\n",
       "      <td>0</td>\n",
       "      <td>0</td>\n",
       "      <td>254</td>\n",
       "      <td>...</td>\n",
       "      <td>254</td>\n",
       "      <td>0</td>\n",
       "      <td>0</td>\n",
       "      <td>254</td>\n",
       "      <td>0</td>\n",
       "      <td>0</td>\n",
       "      <td>254</td>\n",
       "      <td>0</td>\n",
       "      <td>0</td>\n",
       "      <td>11</td>\n",
       "    </tr>\n",
       "    <tr>\n",
       "      <th>2</th>\n",
       "      <td>254</td>\n",
       "      <td>0</td>\n",
       "      <td>0</td>\n",
       "      <td>254</td>\n",
       "      <td>0</td>\n",
       "      <td>0</td>\n",
       "      <td>254</td>\n",
       "      <td>0</td>\n",
       "      <td>0</td>\n",
       "      <td>254</td>\n",
       "      <td>...</td>\n",
       "      <td>254</td>\n",
       "      <td>0</td>\n",
       "      <td>0</td>\n",
       "      <td>254</td>\n",
       "      <td>0</td>\n",
       "      <td>0</td>\n",
       "      <td>254</td>\n",
       "      <td>0</td>\n",
       "      <td>0</td>\n",
       "      <td>79</td>\n",
       "    </tr>\n",
       "    <tr>\n",
       "      <th>3</th>\n",
       "      <td>254</td>\n",
       "      <td>0</td>\n",
       "      <td>0</td>\n",
       "      <td>254</td>\n",
       "      <td>0</td>\n",
       "      <td>0</td>\n",
       "      <td>254</td>\n",
       "      <td>0</td>\n",
       "      <td>0</td>\n",
       "      <td>254</td>\n",
       "      <td>...</td>\n",
       "      <td>254</td>\n",
       "      <td>0</td>\n",
       "      <td>0</td>\n",
       "      <td>254</td>\n",
       "      <td>0</td>\n",
       "      <td>0</td>\n",
       "      <td>254</td>\n",
       "      <td>0</td>\n",
       "      <td>0</td>\n",
       "      <td>74</td>\n",
       "    </tr>\n",
       "    <tr>\n",
       "      <th>4</th>\n",
       "      <td>254</td>\n",
       "      <td>0</td>\n",
       "      <td>0</td>\n",
       "      <td>254</td>\n",
       "      <td>0</td>\n",
       "      <td>0</td>\n",
       "      <td>254</td>\n",
       "      <td>0</td>\n",
       "      <td>0</td>\n",
       "      <td>254</td>\n",
       "      <td>...</td>\n",
       "      <td>254</td>\n",
       "      <td>0</td>\n",
       "      <td>0</td>\n",
       "      <td>254</td>\n",
       "      <td>0</td>\n",
       "      <td>0</td>\n",
       "      <td>254</td>\n",
       "      <td>0</td>\n",
       "      <td>0</td>\n",
       "      <td>54</td>\n",
       "    </tr>\n",
       "    <tr>\n",
       "      <th>...</th>\n",
       "      <td>...</td>\n",
       "      <td>...</td>\n",
       "      <td>...</td>\n",
       "      <td>...</td>\n",
       "      <td>...</td>\n",
       "      <td>...</td>\n",
       "      <td>...</td>\n",
       "      <td>...</td>\n",
       "      <td>...</td>\n",
       "      <td>...</td>\n",
       "      <td>...</td>\n",
       "      <td>...</td>\n",
       "      <td>...</td>\n",
       "      <td>...</td>\n",
       "      <td>...</td>\n",
       "      <td>...</td>\n",
       "      <td>...</td>\n",
       "      <td>...</td>\n",
       "      <td>...</td>\n",
       "      <td>...</td>\n",
       "      <td>...</td>\n",
       "    </tr>\n",
       "    <tr>\n",
       "      <th>8184</th>\n",
       "      <td>254</td>\n",
       "      <td>0</td>\n",
       "      <td>0</td>\n",
       "      <td>254</td>\n",
       "      <td>0</td>\n",
       "      <td>0</td>\n",
       "      <td>254</td>\n",
       "      <td>0</td>\n",
       "      <td>0</td>\n",
       "      <td>254</td>\n",
       "      <td>...</td>\n",
       "      <td>158</td>\n",
       "      <td>154</td>\n",
       "      <td>153</td>\n",
       "      <td>157</td>\n",
       "      <td>153</td>\n",
       "      <td>152</td>\n",
       "      <td>158</td>\n",
       "      <td>154</td>\n",
       "      <td>153</td>\n",
       "      <td>96</td>\n",
       "    </tr>\n",
       "    <tr>\n",
       "      <th>8185</th>\n",
       "      <td>254</td>\n",
       "      <td>0</td>\n",
       "      <td>0</td>\n",
       "      <td>254</td>\n",
       "      <td>0</td>\n",
       "      <td>0</td>\n",
       "      <td>254</td>\n",
       "      <td>0</td>\n",
       "      <td>0</td>\n",
       "      <td>254</td>\n",
       "      <td>...</td>\n",
       "      <td>254</td>\n",
       "      <td>0</td>\n",
       "      <td>0</td>\n",
       "      <td>254</td>\n",
       "      <td>0</td>\n",
       "      <td>0</td>\n",
       "      <td>254</td>\n",
       "      <td>0</td>\n",
       "      <td>0</td>\n",
       "      <td>65</td>\n",
       "    </tr>\n",
       "    <tr>\n",
       "      <th>8186</th>\n",
       "      <td>254</td>\n",
       "      <td>0</td>\n",
       "      <td>0</td>\n",
       "      <td>254</td>\n",
       "      <td>0</td>\n",
       "      <td>0</td>\n",
       "      <td>254</td>\n",
       "      <td>0</td>\n",
       "      <td>0</td>\n",
       "      <td>254</td>\n",
       "      <td>...</td>\n",
       "      <td>254</td>\n",
       "      <td>0</td>\n",
       "      <td>0</td>\n",
       "      <td>254</td>\n",
       "      <td>0</td>\n",
       "      <td>0</td>\n",
       "      <td>254</td>\n",
       "      <td>0</td>\n",
       "      <td>0</td>\n",
       "      <td>36</td>\n",
       "    </tr>\n",
       "    <tr>\n",
       "      <th>8187</th>\n",
       "      <td>254</td>\n",
       "      <td>0</td>\n",
       "      <td>0</td>\n",
       "      <td>254</td>\n",
       "      <td>0</td>\n",
       "      <td>0</td>\n",
       "      <td>254</td>\n",
       "      <td>0</td>\n",
       "      <td>0</td>\n",
       "      <td>254</td>\n",
       "      <td>...</td>\n",
       "      <td>254</td>\n",
       "      <td>0</td>\n",
       "      <td>0</td>\n",
       "      <td>254</td>\n",
       "      <td>0</td>\n",
       "      <td>0</td>\n",
       "      <td>254</td>\n",
       "      <td>0</td>\n",
       "      <td>0</td>\n",
       "      <td>76</td>\n",
       "    </tr>\n",
       "    <tr>\n",
       "      <th>8188</th>\n",
       "      <td>254</td>\n",
       "      <td>0</td>\n",
       "      <td>0</td>\n",
       "      <td>254</td>\n",
       "      <td>0</td>\n",
       "      <td>0</td>\n",
       "      <td>254</td>\n",
       "      <td>0</td>\n",
       "      <td>0</td>\n",
       "      <td>254</td>\n",
       "      <td>...</td>\n",
       "      <td>254</td>\n",
       "      <td>0</td>\n",
       "      <td>0</td>\n",
       "      <td>254</td>\n",
       "      <td>0</td>\n",
       "      <td>0</td>\n",
       "      <td>254</td>\n",
       "      <td>0</td>\n",
       "      <td>0</td>\n",
       "      <td>56</td>\n",
       "    </tr>\n",
       "  </tbody>\n",
       "</table>\n",
       "<p>8189 rows × 49153 columns</p>\n",
       "</div>"
      ],
      "text/plain": [
       "        0  1  2    3  4  5    6  7  8    9  ...  49143  49144  49145  49146  \\\n",
       "0     254  0  0  254  0  0  254  0  0  254  ...    254      0      0    254   \n",
       "1     254  0  0  254  0  0  254  0  0  254  ...    254      0      0    254   \n",
       "2     254  0  0  254  0  0  254  0  0  254  ...    254      0      0    254   \n",
       "3     254  0  0  254  0  0  254  0  0  254  ...    254      0      0    254   \n",
       "4     254  0  0  254  0  0  254  0  0  254  ...    254      0      0    254   \n",
       "...   ... .. ..  ... .. ..  ... .. ..  ...  ...    ...    ...    ...    ...   \n",
       "8184  254  0  0  254  0  0  254  0  0  254  ...    158    154    153    157   \n",
       "8185  254  0  0  254  0  0  254  0  0  254  ...    254      0      0    254   \n",
       "8186  254  0  0  254  0  0  254  0  0  254  ...    254      0      0    254   \n",
       "8187  254  0  0  254  0  0  254  0  0  254  ...    254      0      0    254   \n",
       "8188  254  0  0  254  0  0  254  0  0  254  ...    254      0      0    254   \n",
       "\n",
       "      49147  49148  49149  49150  49151  Labels  \n",
       "0         0      0    254      0      0      45  \n",
       "1         0      0    254      0      0      11  \n",
       "2         0      0    254      0      0      79  \n",
       "3         0      0    254      0      0      74  \n",
       "4         0      0    254      0      0      54  \n",
       "...     ...    ...    ...    ...    ...     ...  \n",
       "8184    153    152    158    154    153      96  \n",
       "8185      0      0    254      0      0      65  \n",
       "8186      0      0    254      0      0      36  \n",
       "8187      0      0    254      0      0      76  \n",
       "8188      0      0    254      0      0      56  \n",
       "\n",
       "[8189 rows x 49153 columns]"
      ]
     },
     "execution_count": 36,
     "metadata": {},
     "output_type": "execute_result"
    }
   ],
   "source": [
    "df"
   ]
  },
  {
   "cell_type": "code",
   "execution_count": 14,
   "metadata": {},
   "outputs": [],
   "source": [
    "train = ids['trnid'][0]-1\n",
    "valid = ids['valid'][0]-1\n",
    "test = ids['tstid'][0]-1"
   ]
  },
  {
   "cell_type": "code",
   "execution_count": 15,
   "metadata": {},
   "outputs": [],
   "source": [
    "train_x = df.loc[train,:]\n",
    "valid_x = df.loc[valid,:]\n",
    "test_x = df.loc[test,:]"
   ]
  },
  {
   "cell_type": "code",
   "execution_count": 37,
   "metadata": {},
   "outputs": [],
   "source": [
    "#train_x.to_csv('train.csv')\n",
    "#valid_x.to_csv('valid.csv')\n",
    "test_x.to_csv('test.csv')"
   ]
  },
  {
   "cell_type": "code",
   "execution_count": 10,
   "metadata": {},
   "outputs": [],
   "source": [
    "#c = (df['Labels'].value_counts()[df['Labels'].value_counts() > 100])\n",
    "#c = (df['Labels'].value_counts()[(df['Labels'].value_counts() > 50) & (df['Labels'].value_counts() < 100)]).index\n",
    "#d = (df['Labels'].value_counts()[df['Labels'].value_counts() > 100]).index"
   ]
  },
  {
   "cell_type": "code",
   "execution_count": 10,
   "metadata": {},
   "outputs": [],
   "source": [
    "for lab in c:\n",
    "    df.drop(df.query('Labels == '+str(lab)).sample(frac=.30).index,inplace =True)"
   ]
  },
  {
   "cell_type": "code",
   "execution_count": null,
   "metadata": {},
   "outputs": [],
   "source": [
    "for l in d:\n",
    "    df.drop(df.query('Labels == '+str(l)).sample(frac=.75).index,inplace =True)"
   ]
  },
  {
   "cell_type": "code",
   "execution_count": 39,
   "metadata": {},
   "outputs": [
    {
     "data": {
      "text/plain": [
       "8189"
      ]
     },
     "execution_count": 39,
     "metadata": {},
     "output_type": "execute_result"
    }
   ],
   "source": [
    "len(df)"
   ]
  },
  {
   "cell_type": "code",
   "execution_count": 40,
   "metadata": {},
   "outputs": [],
   "source": [
    "df.to_csv('data_1_1.csv')"
   ]
  },
  {
   "cell_type": "code",
   "execution_count": 23,
   "metadata": {},
   "outputs": [
    {
     "data": {
      "text/plain": [
       "6149"
      ]
     },
     "execution_count": 23,
     "metadata": {},
     "output_type": "execute_result"
    }
   ],
   "source": [
    "len(test_x['Labels'])"
   ]
  },
  {
   "cell_type": "code",
   "execution_count": 13,
   "metadata": {},
   "outputs": [
    {
     "data": {
      "text/plain": [
       "50    32\n",
       "76    29\n",
       "72    24\n",
       "80    23\n",
       "87    22\n",
       "      ..\n",
       "6      3\n",
       "69     3\n",
       "85     3\n",
       "24     2\n",
       "26     1\n",
       "Name: Labels, Length: 102, dtype: int64"
      ]
     },
     "execution_count": 13,
     "metadata": {},
     "output_type": "execute_result"
    }
   ],
   "source": [
    "train_x['Labels'].value_counts()"
   ]
  },
  {
   "cell_type": "code",
   "execution_count": 17,
   "metadata": {},
   "outputs": [],
   "source": [
    "X = pd.read_csv('train.csv')"
   ]
  },
  {
   "cell_type": "code",
   "execution_count": 14,
   "metadata": {},
   "outputs": [],
   "source": [
    "X = df.iloc[:,:-1].values"
   ]
  },
  {
   "cell_type": "code",
   "execution_count": 15,
   "metadata": {},
   "outputs": [],
   "source": [
    "Y = df['Labels'].values"
   ]
  },
  {
   "cell_type": "code",
   "execution_count": 16,
   "metadata": {},
   "outputs": [
    {
     "data": {
      "text/plain": [
       "(8189, 49152)"
      ]
     },
     "execution_count": 16,
     "metadata": {},
     "output_type": "execute_result"
    }
   ],
   "source": [
    "X.shape"
   ]
  },
  {
   "cell_type": "code",
   "execution_count": 17,
   "metadata": {},
   "outputs": [],
   "source": [
    "X = X.reshape(len(df),128,128,3)"
   ]
  },
  {
   "cell_type": "code",
   "execution_count": 18,
   "metadata": {},
   "outputs": [],
   "source": [
    "from sklearn.preprocessing import OneHotEncoder\n",
    "Y_trans = OneHotEncoder().fit_transform(Y.reshape(-1,1)).toarray()"
   ]
  },
  {
   "cell_type": "code",
   "execution_count": 19,
   "metadata": {},
   "outputs": [
    {
     "data": {
      "text/plain": [
       "(8189, 6)"
      ]
     },
     "execution_count": 19,
     "metadata": {},
     "output_type": "execute_result"
    }
   ],
   "source": [
    "Y_trans.shape"
   ]
  },
  {
   "cell_type": "code",
   "execution_count": 25,
   "metadata": {},
   "outputs": [
    {
     "name": "stdout",
     "output_type": "stream",
     "text": [
      "y = 87\n"
     ]
    },
    {
     "data": {
      "image/png": "[encoded data removed]",
      "text/plain": [
       "<Figure size 432x288 with 1 Axes>"
      ]
     },
     "metadata": {
      "needs_background": "light"
     },
     "output_type": "display_data"
    }
   ],
   "source": [
    "import matplotlib.pyplot as plt\n",
    "index = 1500\n",
    "plt.imshow(X[index])\n",
    "print(\"y = \" + str((Y[index])))"
   ]
  },
  {
   "cell_type": "code",
   "execution_count": 20,
   "metadata": {},
   "outputs": [],
   "source": [
    "from sklearn.model_selection import train_test_split"
   ]
  },
  {
   "cell_type": "code",
   "execution_count": 21,
   "metadata": {},
   "outputs": [],
   "source": [
    "X_train_og,X_test_og,Y_train_og,Y_test_og = train_test_split(X,Y_trans,test_size = 0.2,random_state = 10)"
   ]
  },
  {
   "cell_type": "code",
   "execution_count": 22,
   "metadata": {},
   "outputs": [
    {
     "data": {
      "text/plain": [
       "array([[0., 0., 1., 0., 0., 0.],\n",
       "       [0., 1., 0., 0., 0., 0.],\n",
       "       [0., 1., 0., 0., 0., 0.],\n",
       "       ...,\n",
       "       [0., 0., 0., 0., 0., 1.],\n",
       "       [0., 0., 0., 0., 1., 0.],\n",
       "       [0., 0., 1., 0., 0., 0.]])"
      ]
     },
     "execution_count": 22,
     "metadata": {},
     "output_type": "execute_result"
    }
   ],
   "source": [
    "Y_train_og"
   ]
  },
  {
   "cell_type": "code",
   "execution_count": 23,
   "metadata": {},
   "outputs": [
    {
     "ename": "MemoryError",
     "evalue": "Unable to allocate 2.40 GiB for an array with shape (6551, 128, 128, 3) and data type float64",
     "output_type": "error",
     "traceback": [
      "\u001b[0;31m---------------------------------------------------------------------------\u001b[0m",
      "\u001b[0;31mMemoryError\u001b[0m                               Traceback (most recent call last)",
      "\u001b[0;32m<ipython-input-23-17b16075ac5a>\u001b[0m in \u001b[0;36m<module>\u001b[0;34m\u001b[0m\n\u001b[1;32m      1\u001b[0m \u001b[0;32mfrom\u001b[0m \u001b[0msklearn\u001b[0m\u001b[0;34m.\u001b[0m\u001b[0mpreprocessing\u001b[0m \u001b[0;32mimport\u001b[0m \u001b[0mOneHotEncoder\u001b[0m\u001b[0;34m\u001b[0m\u001b[0;34m\u001b[0m\u001b[0m\n\u001b[0;32m----> 2\u001b[0;31m \u001b[0mX_train\u001b[0m \u001b[0;34m=\u001b[0m \u001b[0mX_train_og\u001b[0m\u001b[0;34m/\u001b[0m\u001b[0;36m255.\u001b[0m\u001b[0;34m\u001b[0m\u001b[0;34m\u001b[0m\u001b[0m\n\u001b[0m\u001b[1;32m      3\u001b[0m \u001b[0mX_test\u001b[0m \u001b[0;34m=\u001b[0m \u001b[0mX_test_og\u001b[0m\u001b[0;34m/\u001b[0m\u001b[0;36m255.\u001b[0m\u001b[0;34m\u001b[0m\u001b[0;34m\u001b[0m\u001b[0m\n\u001b[1;32m      4\u001b[0m \u001b[0mprint\u001b[0m \u001b[0;34m(\u001b[0m\u001b[0;34m\"number of training examples = \"\u001b[0m \u001b[0;34m+\u001b[0m \u001b[0mstr\u001b[0m\u001b[0;34m(\u001b[0m\u001b[0mX_train\u001b[0m\u001b[0;34m.\u001b[0m\u001b[0mshape\u001b[0m\u001b[0;34m[\u001b[0m\u001b[0;36m0\u001b[0m\u001b[0;34m]\u001b[0m\u001b[0;34m)\u001b[0m\u001b[0;34m)\u001b[0m\u001b[0;34m\u001b[0m\u001b[0;34m\u001b[0m\u001b[0m\n\u001b[1;32m      5\u001b[0m \u001b[0mprint\u001b[0m \u001b[0;34m(\u001b[0m\u001b[0;34m\"number of test examples = \"\u001b[0m \u001b[0;34m+\u001b[0m \u001b[0mstr\u001b[0m\u001b[0;34m(\u001b[0m\u001b[0mX_test\u001b[0m\u001b[0;34m.\u001b[0m\u001b[0mshape\u001b[0m\u001b[0;34m[\u001b[0m\u001b[0;36m0\u001b[0m\u001b[0;34m]\u001b[0m\u001b[0;34m)\u001b[0m\u001b[0;34m)\u001b[0m\u001b[0;34m\u001b[0m\u001b[0;34m\u001b[0m\u001b[0m\n",
      "\u001b[0;31mMemoryError\u001b[0m: Unable to allocate 2.40 GiB for an array with shape (6551, 128, 128, 3) and data type float64"
     ]
    }
   ],
   "source": [
    "from sklearn.preprocessing import OneHotEncoder\n",
    "X_train = X_train_og/255.\n",
    "X_test = X_test_og/255.\n",
    "print (\"number of training examples = \" + str(X_train.shape[0]))\n",
    "print (\"number of test examples = \" + str(X_test.shape[0]))\n",
    "print (\"X_train shape: \" + str(X_train.shape))\n",
    "print (\"Y_train shape: \" + str(Y_train_og.shape))\n",
    "print (\"X_test shape: \" + str(X_test.shape))\n",
    "print (\"Y_test shape: \" + str(Y_test_og.shape))\n",
    "conv_layers = {}"
   ]
  },
  {
   "cell_type": "code",
   "execution_count": 30,
   "metadata": {},
   "outputs": [
    {
     "data": {
      "text/plain": [
       "(3673, 128, 128, 3)"
      ]
     },
     "execution_count": 30,
     "metadata": {},
     "output_type": "execute_result"
    }
   ],
   "source": [
    "X_train.shape"
   ]
  },
  {
   "cell_type": "code",
   "execution_count": 155,
   "metadata": {},
   "outputs": [],
   "source": [
    "def batches(X_train,Y_train):\n",
    "    X_train_set = []\n",
    "    Y_train_set = []\n",
    "    for i in range(len(X_train)//500):\n",
    "        X_train_set.append(X_train[i*500:(i+1)*500,:,:,:])\n",
    "        Y_train_set.append(Y_train[i*500:(i+1)*500,:])\n",
    "    return X_train_set,Y_train_set    "
   ]
  },
  {
   "cell_type": "code",
   "execution_count": 150,
   "metadata": {},
   "outputs": [
    {
     "name": "stdout",
     "output_type": "stream",
     "text": [
      "(500, 128, 128, 3)\n",
      "(500, 128, 128, 3)\n",
      "(500, 128, 128, 3)\n",
      "(500, 128, 128, 3)\n",
      "(500, 128, 128, 3)\n",
      "(500, 128, 128, 3)\n",
      "(500, 128, 128, 3)\n"
     ]
    }
   ],
   "source": [
    "for x,y in zip(X_train_set,Y_train_set):\n",
    "    a,b = x,y\n",
    "    print(a.shape)"
   ]
  },
  {
   "cell_type": "code",
   "execution_count": 136,
   "metadata": {},
   "outputs": [],
   "source": [
    "def create_placeholders(n_H0, n_W0, n_C0, n_y):\n",
    "    X = tf.placeholder(tf.float32, shape=(None, n_H0, n_W0, n_C0))\n",
    "    Y = tf.placeholder(tf.float32, shape=(None, n_y))\n",
    "    return X, Y"
   ]
  },
  {
   "cell_type": "code",
   "execution_count": 137,
   "metadata": {},
   "outputs": [],
   "source": [
    "def initialize_parameters():\n",
    "    \n",
    "    tf.set_random_seed(1)                              #\n",
    "    W1 = tf.get_variable(\"W1\", [8,8,3,8], initializer =tf.contrib.layers.xavier_initializer(seed = 0))\n",
    "    W2 =tf.get_variable(\"W2\", [4,4,8,16], initializer =tf.contrib.layers.xavier_initializer(seed = 0))\n",
    "    parameters = {\"W1\": W1,\n",
    "                  \"W2\": W2}\n",
    "    \n",
    "    return parameters"
   ]
  },
  {
   "cell_type": "code",
   "execution_count": 138,
   "metadata": {},
   "outputs": [],
   "source": [
    "def forward_propagation(X, parameters): \n",
    "    W1 = parameters['W1']\n",
    "    W2 = parameters['W2']\n",
    "   \n",
    "    Z1 = tf.nn.conv2d(X,W1, strides = [1,1,1,1], padding = 'SAME')\n",
    "    # RELU\n",
    "    A1 = tf.nn.relu(Z1)\n",
    "    # MAXPOOL: window 8x8, sride 8, padding 'SAME'\n",
    "    P1 = tf.nn.max_pool(A1, ksize = [1,8,8,1], strides = [1,8,8,1], padding = 'SAME')\n",
    "    # CONV2D: filters W2, stride 1, padding 'SAME'\n",
    "    Z2 = tf.nn.conv2d(P1, W2, strides = [1,1,1,1], padding = 'SAME')\n",
    "    # RELU\n",
    "    A2 = tf.nn.relu(Z2)\n",
    "    # MAXPOOL: window 4x4, stride 4, padding 'SAME'\n",
    "    P2 = tf.nn.max_pool(A2, ksize = [1,4,4,1], strides = [1,4,4,1], padding = 'SAME')\n",
    "    # FLATTEN\n",
    "    P2 = tf.contrib.layers.flatten(P2)\n",
    "    # FULLY-CONNECTED without non-linear activation function (not not call softmax).\n",
    "    # 6 neurons in output layer. Hint: one of the arguments should be \"activation_fn=None\" \n",
    "    Z3 = tf.contrib.layers.fully_connected(P2, 102, activation_fn=None)\n",
    "    ### END CODE HERE ###\n",
    "\n",
    "    return Z3"
   ]
  },
  {
   "cell_type": "code",
   "execution_count": 139,
   "metadata": {},
   "outputs": [],
   "source": [
    "def compute_cost(Z3, Y):\n",
    "    \"\"\"\n",
    "    Computes the cost\n",
    "    \n",
    "    Arguments:\n",
    "    Z3 -- output of forward propagation (output of the last LINEAR unit), of shape (6, number of examples)\n",
    "    Y -- \"true\" labels vector placeholder, same shape as Z3\n",
    "    \n",
    "    Returns:\n",
    "    cost - Tensor of the cost function\n",
    "    \"\"\"\n",
    "    \n",
    "    ### START CODE HERE ### (1 line of code)\n",
    "    cost = tf.reduce_mean(tf.nn.softmax_cross_entropy_with_logits(logits = Z3, labels = Y))\n",
    "    ### END CODE HERE ###\n",
    "    \n",
    "    return cost"
   ]
  },
  {
   "cell_type": "code",
   "execution_count": 158,
   "metadata": {},
   "outputs": [],
   "source": [
    "def model(X_train, Y_train, X_test, Y_test, learning_rate = 0.009,\n",
    "          num_epochs = 100, minibatch_size = 64, print_cost = True):\n",
    "    \"\"\"\n",
    "    Implements a three-layer ConvNet in Tensorflow:\n",
    "    CONV2D -> RELU -> MAXPOOL -> CONV2D -> RELU -> MAXPOOL -> FLATTEN -> FULLYCONNECTED\n",
    "    \n",
    "    Arguments:\n",
    "    X_train -- training set, of shape (None, 64, 64, 3)\n",
    "    Y_train -- test set, of shape (None, n_y = 6)\n",
    "    X_test -- training set, of shape (None, 64, 64, 3)\n",
    "    Y_test -- test set, of shape (None, n_y = 6)\n",
    "    learning_rate -- learning rate of the optimization\n",
    "    num_epochs -- number of epochs of the optimization loop\n",
    "    minibatch_size -- size of a minibatch\n",
    "    print_cost -- True to print the cost every 100 epochs\n",
    "    \n",
    "    Returns:\n",
    "    train_accuracy -- real number, accuracy on the train set (X_train)\n",
    "    test_accuracy -- real number, testing accuracy on the test set (X_test)\n",
    "    parameters -- parameters learnt by the model. They can then be used to predict.\n",
    "    \"\"\"\n",
    "    \n",
    "    ops.reset_default_graph()                         # to be able to rerun the model without overwriting tf variables\n",
    "    tf.set_random_seed(1)                             # to keep results consistent (tensorflow seed)\n",
    "    seed = 3                                          # to keep results consistent (numpy seed)\n",
    "    (m, n_H0, n_W0, n_C0) = X_train.shape             \n",
    "    n_y = Y_train.shape[1]                            \n",
    "    costs = []                                        # To keep track of the cost\n",
    "    \n",
    "    # Create Placeholders of the correct shape\n",
    "    ### START CODE HERE ### (1 line)\n",
    "    X, Y = create_placeholders(n_H0, n_W0, n_C0, n_y)\n",
    "    ### END CODE HERE ###\n",
    "\n",
    "    # Initialize parameters\n",
    "    ### START CODE HERE ### (1 line)\n",
    "    parameters = initialize_parameters()\n",
    "    ### END CODE HERE ###\n",
    "    \n",
    "    # Forward propagation: Build the forward propagation in the tensorflow graph\n",
    "    ### START CODE HERE ### (1 line)\n",
    "    Z3 = forward_propagation(X, parameters)\n",
    "    ### END CODE HERE ###\n",
    "    \n",
    "    # Cost function: Add cost function to tensorflow graph\n",
    "    ### START CODE HERE ### (1 line)\n",
    "    cost = compute_cost(Z3, Y)\n",
    "    ### END CODE HERE ###\n",
    "    \n",
    "    # Backpropagation: Define the tensorflow optimizer. Use an AdamOptimizer that minimizes the cost.\n",
    "    ### START CODE HERE ### (1 line)\n",
    "    optimizer = tf.train.AdamOptimizer(learning_rate = learning_rate).minimize(cost)\n",
    "    ### END CODE HERE ###\n",
    "    \n",
    "    # Initialize all the variables globally\n",
    "    init = tf.global_variables_initializer()\n",
    "     \n",
    "    # Start the session to compute the tensorflow graph\n",
    "    with tf.Session() as sess:\n",
    "        \n",
    "        # Run the initialization\n",
    "        sess.run(init)\n",
    "        \n",
    "        # Do the training loop\n",
    "        for epoch in range(num_epochs):\n",
    "\n",
    "            minibatch_cost = 0\n",
    "            X_set , Y_set = batches(X_train, Y_train)\n",
    "\n",
    "            for x,y in zip(X_set,Y_set):\n",
    "\n",
    "                # Select a minibatch\n",
    "                minibatch_X, minibatch_Y = x,y\n",
    "                # IMPORTANT: The line that runs the graph on a minibatch.\n",
    "                # Run the session to execute the optimizer and the cost, the feedict should contain a minibatch for (X,Y).\n",
    "                ### START CODE HERE ### (1 line)\n",
    "                _ , temp_cost = sess.run([optimizer, cost], feed_dict={X: minibatch_X, Y: minibatch_Y})\n",
    "                \n",
    "                ### END CODE HERE ###\n",
    "                \n",
    "                minibatch_cost += temp_cost / num_minibatches\n",
    "                \n",
    "\n",
    "            # Print the cost every epoch\n",
    "            if print_cost == True and epoch % 5 == 0:\n",
    "                print (\"Cost after epoch %i: %f\" % (epoch, minibatch_cost))\n",
    "            if print_cost == True and epoch % 1 == 0:\n",
    "                costs.append(minibatch_cost)\n",
    "        \n",
    "        \n",
    "        # plot the cost\n",
    "        plt.plot(np.squeeze(costs))\n",
    "        plt.ylabel('cost')\n",
    "        plt.xlabel('iterations (per tens)')\n",
    "        plt.title(\"Learning rate =\" + str(learning_rate))\n",
    "        plt.show()\n",
    "\n",
    "        # Calculate the correct predictions\n",
    "        predict_op = tf.argmax(Z3, 1)\n",
    "        correct_prediction = tf.equal(predict_op, tf.argmax(Y, 1))\n",
    "        \n",
    "        # Calculate accuracy on the test set\n",
    "        accuracy = tf.reduce_mean(tf.cast(correct_prediction, \"float\"))\n",
    "        print(accuracy)\n",
    "        train_accuracy = accuracy.eval({X: X_train, Y: Y_train})\n",
    "        test_accuracy = accuracy.eval({X: X_test, Y: Y_test})\n",
    "        print(\"Train Accuracy:\", train_accuracy)\n",
    "        print(\"Test Accuracy:\", test_accuracy)\n",
    "                \n",
    "        return train_accuracy, test_accuracy, parameters"
   ]
  },
  {
   "cell_type": "code",
   "execution_count": null,
   "metadata": {},
   "outputs": [],
   "source": [
    "_, _, parameters = model(X_train, Y_train_og, X_test, Y_test_og)"
   ]
  },
  {
   "cell_type": "code",
   "execution_count": 42,
   "metadata": {},
   "outputs": [],
   "source": [
    "batch = random_mini_batches(X_train_1, Y_train_1, 50, 1)"
   ]
  },
  {
   "cell_type": "code",
   "execution_count": 44,
   "metadata": {},
   "outputs": [
    {
     "data": {
      "text/plain": [
       "(array([[[[0.29803922, 0.78039216, 0.62352941],\n",
       "          [0.25098039, 0.70196078, 0.55686275],\n",
       "          [0.28627451, 0.69803922, 0.57647059],\n",
       "          ...,\n",
       "          [0.17254902, 0.25490196, 0.29411765],\n",
       "          [0.17254902, 0.25098039, 0.29803922],\n",
       "          [0.17254902, 0.2627451 , 0.29019608]],\n",
       " \n",
       "         [[0.09803922, 0.30196078, 0.21960784],\n",
       "          [0.03137255, 0.17647059, 0.09019608],\n",
       "          [0.10196078, 0.2745098 , 0.18431373],\n",
       "          ...,\n",
       "          [0.14901961, 0.23137255, 0.36078431],\n",
       "          [0.14901961, 0.25098039, 0.36862745],\n",
       "          [0.14117647, 0.24313725, 0.36078431]],\n",
       " \n",
       "         [[0.03921569, 0.17254902, 0.07058824],\n",
       "          [0.05490196, 0.16862745, 0.06666667],\n",
       "          [0.04705882, 0.19215686, 0.07843137],\n",
       "          ...,\n",
       "          [0.05098039, 0.13333333, 0.14117647],\n",
       "          [0.03137255, 0.12156863, 0.10588235],\n",
       "          [0.07058824, 0.18039216, 0.11764706]],\n",
       " \n",
       "         ...,\n",
       " \n",
       "         [[0.02352941, 0.01960784, 0.00392157],\n",
       "          [0.01960784, 0.01960784, 0.01568627],\n",
       "          [0.        , 0.00784314, 0.00784314],\n",
       "          ...,\n",
       "          [0.11764706, 0.16078431, 0.27058824],\n",
       "          [0.10588235, 0.14901961, 0.25882353],\n",
       "          [0.11764706, 0.14901961, 0.2627451 ]],\n",
       " \n",
       "         [[0.03921569, 0.02352941, 0.04313725],\n",
       "          [0.01960784, 0.03137255, 0.02352941],\n",
       "          [0.00392157, 0.03921569, 0.00392157],\n",
       "          ...,\n",
       "          [0.12156863, 0.16470588, 0.2745098 ],\n",
       "          [0.11764706, 0.16078431, 0.27058824],\n",
       "          [0.12156863, 0.16078431, 0.25098039]],\n",
       " \n",
       "         [[0.21960784, 0.62352941, 0.34901961],\n",
       "          [0.21568627, 0.62745098, 0.36862745],\n",
       "          [0.23529412, 0.6627451 , 0.41568627],\n",
       "          ...,\n",
       "          [0.15294118, 0.17647059, 0.29803922],\n",
       "          [0.1372549 , 0.15294118, 0.25882353],\n",
       "          [0.12941176, 0.16862745, 0.25882353]]],\n",
       " \n",
       " \n",
       "        [[[0.12156863, 0.36470588, 0.22352941],\n",
       "          [0.15686275, 0.39607843, 0.25490196],\n",
       "          [0.14509804, 0.36470588, 0.22745098],\n",
       "          ...,\n",
       "          [0.02745098, 0.10980392, 0.02352941],\n",
       "          [0.01568627, 0.10588235, 0.01960784],\n",
       "          [0.01568627, 0.10588235, 0.01960784]],\n",
       " \n",
       "         [[0.26666667, 0.47058824, 0.31372549],\n",
       "          [0.26666667, 0.47058824, 0.31372549],\n",
       "          [0.2745098 , 0.47843137, 0.32156863],\n",
       "          ...,\n",
       "          [0.01568627, 0.04313725, 0.03137255],\n",
       "          [0.01176471, 0.03921569, 0.01960784],\n",
       "          [0.01176471, 0.02745098, 0.00784314]],\n",
       " \n",
       "         [[0.05098039, 0.21960784, 0.12156863],\n",
       "          [0.02352941, 0.19215686, 0.09411765],\n",
       "          [0.00392157, 0.17647059, 0.0745098 ],\n",
       "          ...,\n",
       "          [0.10980392, 0.31764706, 0.18823529],\n",
       "          [0.09803922, 0.29411765, 0.16862745],\n",
       "          [0.08627451, 0.28627451, 0.16078431]],\n",
       " \n",
       "         ...,\n",
       " \n",
       "         [[0.00392157, 0.14901961, 0.04313725],\n",
       "          [0.09019608, 0.30980392, 0.19607843],\n",
       "          [0.09411765, 0.31372549, 0.2       ],\n",
       "          ...,\n",
       "          [0.10588235, 0.29019608, 0.16470588],\n",
       "          [0.16470588, 0.36470588, 0.23529412],\n",
       "          [0.14117647, 0.36078431, 0.24705882]],\n",
       " \n",
       "         [[0.09019608, 0.30588235, 0.19215686],\n",
       "          [0.0627451 , 0.30980392, 0.19215686],\n",
       "          [0.04705882, 0.27843137, 0.16470588],\n",
       "          ...,\n",
       "          [0.15294118, 0.30588235, 0.18431373],\n",
       "          [0.09411765, 0.25882353, 0.1372549 ],\n",
       "          [0.22352941, 0.35686275, 0.25098039]],\n",
       " \n",
       "         [[0.04313725, 0.14117647, 0.08627451],\n",
       "          [0.10588235, 0.34901961, 0.25490196],\n",
       "          [0.11372549, 0.28627451, 0.19607843],\n",
       "          ...,\n",
       "          [0.02745098, 0.2       , 0.07843137],\n",
       "          [0.01960784, 0.21568627, 0.09019608],\n",
       "          [0.04705882, 0.28235294, 0.14901961]]],\n",
       " \n",
       " \n",
       "        [[[0.19215686, 0.75294118, 0.58431373],\n",
       "          [0.16078431, 0.71764706, 0.55686275],\n",
       "          [0.07058824, 0.6627451 , 0.47058824],\n",
       "          ...,\n",
       "          [0.08627451, 0.08235294, 0.11372549],\n",
       "          [0.05882353, 0.05490196, 0.09019608],\n",
       "          [0.06666667, 0.0627451 , 0.10196078]],\n",
       " \n",
       "         [[0.78823529, 0.61568627, 0.50196078],\n",
       "          [0.2       , 0.30980392, 0.16862745],\n",
       "          [0.07843137, 0.42352941, 0.25882353],\n",
       "          ...,\n",
       "          [0.02352941, 0.03921569, 0.05882353],\n",
       "          [0.01568627, 0.00784314, 0.03137255],\n",
       "          [0.03137255, 0.00392157, 0.03137255]],\n",
       " \n",
       "         [[0.30196078, 0.26666667, 0.24705882],\n",
       "          [0.21176471, 0.19607843, 0.16078431],\n",
       "          [0.07843137, 0.07843137, 0.04313725],\n",
       "          ...,\n",
       "          [0.25490196, 0.58823529, 0.3372549 ],\n",
       "          [0.3254902 , 0.61960784, 0.36862745],\n",
       "          [0.34901961, 0.6       , 0.36862745]],\n",
       " \n",
       "         ...,\n",
       " \n",
       "         [[0.24705882, 0.35686275, 0.1372549 ],\n",
       "          [0.27058824, 0.39215686, 0.18431373],\n",
       "          [0.31764706, 0.4627451 , 0.25882353],\n",
       "          ...,\n",
       "          [0.21568627, 0.56470588, 0.34901961],\n",
       "          [0.29803922, 0.59607843, 0.38431373],\n",
       "          [0.29803922, 0.59215686, 0.36078431]],\n",
       " \n",
       "         [[0.15294118, 0.16470588, 0.14117647],\n",
       "          [0.12941176, 0.14509804, 0.15294118],\n",
       "          [0.0627451 , 0.10196078, 0.09803922],\n",
       "          ...,\n",
       "          [0.23921569, 0.59607843, 0.34509804],\n",
       "          [0.3372549 , 0.61960784, 0.38039216],\n",
       "          [0.37254902, 0.60784314, 0.39607843]],\n",
       " \n",
       "         [[0.30588235, 0.36862745, 0.17647059],\n",
       "          [0.13333333, 0.3372549 , 0.20784314],\n",
       "          [0.26666667, 0.75686275, 0.87843137],\n",
       "          ...,\n",
       "          [0.27058824, 0.36862745, 0.19215686],\n",
       "          [0.10588235, 0.45490196, 0.24313725],\n",
       "          [0.0627451 , 0.50588235, 0.27843137]]],\n",
       " \n",
       " \n",
       "        ...,\n",
       " \n",
       " \n",
       "        [[[0.10588235, 0.20784314, 0.15686275],\n",
       "          [0.0745098 , 0.18039216, 0.1254902 ],\n",
       "          [0.11764706, 0.21960784, 0.16862745],\n",
       "          ...,\n",
       "          [0.00392157, 0.02352941, 0.01568627],\n",
       "          [0.00392157, 0.02352941, 0.01176471],\n",
       "          [0.00392157, 0.02352941, 0.01960784]],\n",
       " \n",
       "         [[0.03921569, 0.17254902, 0.12941176],\n",
       "          [0.08627451, 0.25098039, 0.19215686],\n",
       "          [0.11764706, 0.29411765, 0.22745098],\n",
       "          ...,\n",
       "          [0.09411765, 0.12156863, 0.10980392],\n",
       "          [0.02745098, 0.05490196, 0.04313725],\n",
       "          [0.01176471, 0.01960784, 0.01960784]],\n",
       " \n",
       "         [[0.03529412, 0.07058824, 0.05882353],\n",
       "          [0.02745098, 0.0627451 , 0.05098039],\n",
       "          [0.02352941, 0.05882353, 0.04705882],\n",
       "          ...,\n",
       "          [0.02745098, 0.13333333, 0.09803922],\n",
       "          [0.01960784, 0.1254902 , 0.09019608],\n",
       "          [0.03529412, 0.14117647, 0.09803922]],\n",
       " \n",
       "         ...,\n",
       " \n",
       "         [[0.12941176, 0.22352941, 0.18431373],\n",
       "          [0.11764706, 0.21176471, 0.17254902],\n",
       "          [0.08235294, 0.17647059, 0.1372549 ],\n",
       "          ...,\n",
       "          [0.17254902, 0.31372549, 0.24705882],\n",
       "          [0.17647059, 0.31764706, 0.25098039],\n",
       "          [0.18823529, 0.32941176, 0.2627451 ]],\n",
       " \n",
       "         [[0.01176471, 0.09411765, 0.0627451 ],\n",
       "          [0.02352941, 0.10588235, 0.0745098 ],\n",
       "          [0.05882353, 0.14117647, 0.10980392],\n",
       "          ...,\n",
       "          [0.1372549 , 0.26666667, 0.21176471],\n",
       "          [0.14117647, 0.27058824, 0.21568627],\n",
       "          [0.12941176, 0.2745098 , 0.21176471]],\n",
       " \n",
       "         [[0.11764706, 0.14901961, 0.12156863],\n",
       "          [0.11372549, 0.14901961, 0.11764706],\n",
       "          [0.03137255, 0.07843137, 0.04705882],\n",
       "          ...,\n",
       "          [0.17254902, 0.31372549, 0.25098039],\n",
       "          [0.16470588, 0.30588235, 0.23529412],\n",
       "          [0.14901961, 0.2627451 , 0.2       ]]],\n",
       " \n",
       " \n",
       "        [[[0.1254902 , 0.43529412, 0.27058824],\n",
       "          [0.17647059, 0.40784314, 0.29411765],\n",
       "          [0.20784314, 0.39215686, 0.29019608],\n",
       "          ...,\n",
       "          [0.61176471, 0.76078431, 0.54509804],\n",
       "          [0.61568627, 0.7254902 , 0.54509804],\n",
       "          [0.65882353, 0.69019608, 0.52941176]],\n",
       " \n",
       "         [[0.3372549 , 0.57254902, 0.37254902],\n",
       "          [0.2       , 0.47058824, 0.2627451 ],\n",
       "          [0.12156863, 0.42352941, 0.23921569],\n",
       "          ...,\n",
       "          [0.65882353, 0.74117647, 0.53333333],\n",
       "          [0.60784314, 0.72156863, 0.54117647],\n",
       "          [0.61176471, 0.69411765, 0.51372549]],\n",
       " \n",
       "         [[0.04705882, 0.3372549 , 0.13333333],\n",
       "          [0.07058824, 0.34901961, 0.14509804],\n",
       "          [0.0745098 , 0.34509804, 0.14509804],\n",
       "          ...,\n",
       "          [0.22745098, 0.44313725, 0.25098039],\n",
       "          [0.25490196, 0.48235294, 0.29411765],\n",
       "          [0.31372549, 0.54117647, 0.35294118]],\n",
       " \n",
       "         ...,\n",
       " \n",
       "         [[0.10588235, 0.41176471, 0.17254902],\n",
       "          [0.10196078, 0.42352941, 0.19215686],\n",
       "          [0.11372549, 0.45098039, 0.21960784],\n",
       "          ...,\n",
       "          [0.67058824, 0.70588235, 0.54901961],\n",
       "          [0.70980392, 0.70196078, 0.55294118],\n",
       "          [0.72156863, 0.70980392, 0.56078431]],\n",
       " \n",
       "         [[0.07058824, 0.34901961, 0.16470588],\n",
       "          [0.08627451, 0.36470588, 0.16470588],\n",
       "          [0.10588235, 0.39607843, 0.18039216],\n",
       "          ...,\n",
       "          [0.67843137, 0.70588235, 0.54901961],\n",
       "          [0.6627451 , 0.68235294, 0.52941176],\n",
       "          [0.6627451 , 0.68235294, 0.52941176]],\n",
       " \n",
       "         [[0.03921569, 0.23921569, 0.09411765],\n",
       "          [0.03921569, 0.2       , 0.07843137],\n",
       "          [0.03921569, 0.17254902, 0.07058824],\n",
       "          ...,\n",
       "          [0.70196078, 0.76862745, 0.60784314],\n",
       "          [0.63921569, 0.72941176, 0.55294118],\n",
       "          [0.6       , 0.69019608, 0.51372549]]],\n",
       " \n",
       " \n",
       "        [[[0.3254902 , 0.41568627, 0.34117647],\n",
       "          [0.46666667, 0.51764706, 0.4627451 ],\n",
       "          [0.71372549, 0.7254902 , 0.69019608],\n",
       "          ...,\n",
       "          [0.34901961, 0.41176471, 0.32941176],\n",
       "          [0.43137255, 0.45098039, 0.37647059],\n",
       "          [0.39607843, 0.43529412, 0.36862745]],\n",
       " \n",
       "         [[0.81176471, 0.81176471, 0.81176471],\n",
       "          [0.81960784, 0.81960784, 0.81960784],\n",
       "          [0.82352941, 0.82352941, 0.82352941],\n",
       "          ...,\n",
       "          [0.35294118, 0.43529412, 0.36470588],\n",
       "          [0.34901961, 0.43529412, 0.36470588],\n",
       "          [0.34509804, 0.42745098, 0.36078431]],\n",
       " \n",
       "         [[0.63137255, 0.69411765, 0.69019608],\n",
       "          [0.61568627, 0.67843137, 0.6745098 ],\n",
       "          [0.6       , 0.6627451 , 0.65882353],\n",
       "          ...,\n",
       "          [0.5254902 , 0.55294118, 0.47058824],\n",
       "          [0.53333333, 0.55294118, 0.47058824],\n",
       "          [0.5254902 , 0.54901961, 0.46666667]],\n",
       " \n",
       "         ...,\n",
       " \n",
       "         [[0.4627451 , 0.54117647, 0.54509804],\n",
       "          [0.45098039, 0.52941176, 0.53333333],\n",
       "          [0.43921569, 0.51764706, 0.5254902 ],\n",
       "          ...,\n",
       "          [0.4627451 , 0.49019608, 0.40784314],\n",
       "          [0.47843137, 0.50588235, 0.42352941],\n",
       "          [0.50980392, 0.52156863, 0.44705882]],\n",
       " \n",
       "         [[0.54509804, 0.61568627, 0.61960784],\n",
       "          [0.5254902 , 0.59607843, 0.6       ],\n",
       "          [0.51372549, 0.58039216, 0.58431373],\n",
       "          ...,\n",
       "          [0.55686275, 0.56470588, 0.49411765],\n",
       "          [0.55686275, 0.56470588, 0.49019608],\n",
       "          [0.56470588, 0.56862745, 0.49803922]],\n",
       " \n",
       "         [[0.4       , 0.4745098 , 0.48235294],\n",
       "          [0.39607843, 0.4745098 , 0.47843137],\n",
       "          [0.4       , 0.47843137, 0.48235294],\n",
       "          ...,\n",
       "          [0.47843137, 0.48235294, 0.40392157],\n",
       "          [0.49019608, 0.49019608, 0.41176471],\n",
       "          [0.4745098 , 0.49411765, 0.41176471]]]]),\n",
       " array([[0., 0., 0., 0., 0., 1., 1., 1., 1., 0., 1., 0., 1., 0., 1., 0.,\n",
       "         0., 1., 0., 1., 0., 0., 1., 0., 0., 1., 0., 0., 0., 0., 0., 1.,\n",
       "         0., 1., 1., 0., 1., 0., 0., 1., 0., 0., 0., 1., 0., 0., 0., 0.,\n",
       "         0., 0.],\n",
       "        [1., 0., 0., 1., 1., 0., 0., 0., 0., 1., 0., 1., 0., 1., 0., 1.,\n",
       "         1., 0., 1., 0., 1., 1., 0., 1., 0., 0., 1., 1., 1., 1., 1., 0.,\n",
       "         1., 0., 0., 1., 0., 0., 1., 0., 1., 1., 0., 0., 1., 0., 1., 1.,\n",
       "         1., 1.],\n",
       "        [0., 1., 1., 0., 0., 0., 0., 0., 0., 0., 0., 0., 0., 0., 0., 0.,\n",
       "         0., 0., 0., 0., 0., 0., 0., 0., 1., 0., 0., 0., 0., 0., 0., 0.,\n",
       "         0., 0., 0., 0., 0., 1., 0., 0., 0., 0., 1., 0., 0., 1., 0., 0.,\n",
       "         0., 0.]]))"
      ]
     },
     "execution_count": 44,
     "metadata": {},
     "output_type": "execute_result"
    }
   ],
   "source": [
    "batch[1]"
   ]
  },
  {
   "cell_type": "code",
   "execution_count": 38,
   "metadata": {},
   "outputs": [],
   "source": [
    "img_labels = scipy.io.loadmat(\"imagelabels.mat\")"
   ]
  },
  {
   "cell_type": "code",
   "execution_count": 39,
   "metadata": {},
   "outputs": [
    {
     "data": {
      "text/plain": [
       "{'__header__': b'MATLAB 5.0 MAT-file, Platform: GLNX86, Created on: Thu Feb 19 15:43:33 2009',\n",
       " '__version__': '1.0',\n",
       " '__globals__': [],\n",
       " 'labels': array([[77, 77, 77, ..., 62, 62, 62]], dtype=uint8)}"
      ]
     },
     "execution_count": 39,
     "metadata": {},
     "output_type": "execute_result"
    }
   ],
   "source": [
    "img_labels"
   ]
  },
  {
   "cell_type": "code",
   "execution_count": null,
   "metadata": {},
   "outputs": [],
   "source": []
  }
 ],
 "metadata": {
  "kernelspec": {
   "display_name": "Python 3",
   "language": "python",
   "name": "python3"
  },
  "language_info": {
   "codemirror_mode": {
    "name": "ipython",
    "version": 3
   },
   "file_extension": ".py",
   "mimetype": "text/x-python",
   "name": "python",
   "nbconvert_exporter": "python",
   "pygments_lexer": "ipython3",
   "version": "3.7.5"
  }
 },
 "nbformat": 4,
 "nbformat_minor": 2
}
